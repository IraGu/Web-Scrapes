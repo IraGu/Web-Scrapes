{
 "cells": [
  {
   "cell_type": "code",
   "execution_count": 1,
   "metadata": {},
   "outputs": [],
   "source": [
    "from bs4 import BeautifulSoup as soup\n",
    "from urllib.request import urlopen as uopen"
   ]
  },
  {
   "cell_type": "code",
   "execution_count": 2,
   "metadata": {},
   "outputs": [],
   "source": [
    "my_url = 'http://www.mso.anu.edu.au/~ralph/OPTED/v003/wb1913_a.html'"
   ]
  },
  {
   "cell_type": "code",
   "execution_count": 3,
   "metadata": {},
   "outputs": [],
   "source": [
    "dict_a = uopen(my_url)"
   ]
  },
  {
   "cell_type": "code",
   "execution_count": 4,
   "metadata": {},
   "outputs": [],
   "source": [
    "dict_ha = dict_a.read()"
   ]
  },
  {
   "cell_type": "code",
   "execution_count": 6,
   "metadata": {},
   "outputs": [],
   "source": [
    "dict_a.close()"
   ]
  },
  {
   "cell_type": "code",
   "execution_count": 7,
   "metadata": {},
   "outputs": [],
   "source": [
    "soup_a = soup(dict_ha, \"html.parser\")"
   ]
  },
  {
   "cell_type": "code",
   "execution_count": 28,
   "metadata": {},
   "outputs": [],
   "source": [
    "s_list = soup_a.find(\"b\")"
   ]
  },
  {
   "cell_type": "code",
   "execution_count": 35,
   "metadata": {},
   "outputs": [],
   "source": [
    "list1 = []"
   ]
  },
  {
   "cell_type": "code",
   "execution_count": 38,
   "metadata": {},
   "outputs": [],
   "source": [
    "for ele in soup_a.findChildren('b'):\n",
    "    list1.append(ele.text)"
   ]
  },
  {
   "cell_type": "code",
   "execution_count": 40,
   "metadata": {},
   "outputs": [
    {
     "name": "stdout",
     "output_type": "stream",
     "text": [
      "['A', 'A', 'A', 'A', 'A', 'A', 'A', 'A', 'A-', 'A 1', 'Aam', 'Aard-vark', 'Aard-wolf', 'Aaronic', 'Aaronical', \"Aaron's rod\", \"Aaron's rod\", 'Ab-', 'Ab', 'Abaca', 'Abacinate', 'Abacination', 'Abaciscus', 'Abacist', 'Aback', 'Aback', 'Aback', 'Aback', 'Abactinal', 'Abaction', 'Abactor', 'Abaculi', 'Abaculus', 'Abacuses', 'Abaci', 'Abacus', 'Abacus', 'Abacus', 'Abacus', 'Abacus', 'Abada', 'Abaddon', 'Abaddon', 'Abaft', 'Abaft', 'Abaisance', 'Abaiser', 'Abaist', 'Abalienate']\n"
     ]
    }
   ],
   "source": [
    "print(list1[1:50])"
   ]
  },
  {
   "cell_type": "code",
   "execution_count": 43,
   "metadata": {},
   "outputs": [
    {
     "data": {
      "text/plain": [
       "11616"
      ]
     },
     "execution_count": 43,
     "metadata": {},
     "output_type": "execute_result"
    }
   ],
   "source": [
    "len(list1)"
   ]
  },
  {
   "cell_type": "code",
   "execution_count": 47,
   "metadata": {},
   "outputs": [],
   "source": [
    "list1 = list(sorted(set(list1)))"
   ]
  },
  {
   "cell_type": "code",
   "execution_count": 48,
   "metadata": {},
   "outputs": [
    {
     "data": {
      "text/plain": [
       "7891"
      ]
     },
     "execution_count": 48,
     "metadata": {},
     "output_type": "execute_result"
    }
   ],
   "source": [
    "len(list1)"
   ]
  },
  {
   "cell_type": "code",
   "execution_count": 49,
   "metadata": {},
   "outputs": [
    {
     "name": "stdout",
     "output_type": "stream",
     "text": [
      "['-ably', '-ana', '-ance', '-ancy', '-ant', '-arch', '-ard', '-art', '-ate', '-ation', '-goes', '-gos', '-ses', 'A', 'A 1', 'A B C', 'A cappella', 'A fortiori', 'A mensa et thoro', 'A posteriori', 'A priori', 'A-', 'A-mornings', 'A-sea', 'A-tiptoe', 'Aam', 'Aard-vark', 'Aard-wolf', \"Aaron's rod\", 'Aaronic', 'Aaronical', 'Ab', 'Ab-', 'Abaca', 'Abaci', 'Abacinate', 'Abacination', 'Abaciscus', 'Abacist', 'Aback', 'Abactinal', 'Abaction', 'Abactor', 'Abaculi', 'Abaculus', 'Abacus', 'Abacuses', 'Abada', 'Abaddon']\n"
     ]
    }
   ],
   "source": [
    "print(list1[1:50])"
   ]
  },
  {
   "cell_type": "code",
   "execution_count": 61,
   "metadata": {},
   "outputs": [],
   "source": [
    "list2 = []"
   ]
  },
  {
   "cell_type": "code",
   "execution_count": 62,
   "metadata": {},
   "outputs": [],
   "source": [
    "for s in list1:\n",
    "    if any(c in s for c in (\" \", \"'\",\"-\")) == False and len(s) > 4:\n",
    "        list2.append(s)\n",
    "    else:\n",
    "        continue"
   ]
  },
  {
   "cell_type": "code",
   "execution_count": 63,
   "metadata": {},
   "outputs": [
    {
     "data": {
      "text/plain": [
       "7392"
      ]
     },
     "execution_count": 63,
     "metadata": {},
     "output_type": "execute_result"
    }
   ],
   "source": [
    "len(list2)"
   ]
  },
  {
   "cell_type": "code",
   "execution_count": 64,
   "metadata": {},
   "outputs": [
    {
     "name": "stdout",
     "output_type": "stream",
     "text": [
      "['Aaronic', 'Aaronical', 'Abaca', 'Abaci', 'Abacinate', 'Abacination', 'Abaciscus', 'Abacist', 'Aback', 'Abactinal', 'Abaction', 'Abactor', 'Abaculi', 'Abaculus', 'Abacus', 'Abacuses', 'Abada', 'Abaddon', 'Abaft', 'Abaisance', 'Abaiser', 'Abaist', 'Abalienate', 'Abalienation', 'Abalone', 'Aband', 'Abandon', 'Abandoned', 'Abandonedly', 'Abandonee', 'Abandoner', 'Abandoning', 'Abandonment', 'Abandum', 'Abanet', 'Abanga', 'Abannation', 'Abannition', 'Abarticulation', 'Abase']\n"
     ]
    }
   ],
   "source": []
  },
  {
   "cell_type": "code",
   "execution_count": null,
   "metadata": {},
   "outputs": [],
   "source": []
  }
 ],
 "metadata": {
  "kernelspec": {
   "display_name": "Python 3",
   "language": "python",
   "name": "python3"
  },
  "language_info": {
   "codemirror_mode": {
    "name": "ipython",
    "version": 3
   },
   "file_extension": ".py",
   "mimetype": "text/x-python",
   "name": "python",
   "nbconvert_exporter": "python",
   "pygments_lexer": "ipython3",
   "version": "3.6.5"
  }
 },
 "nbformat": 4,
 "nbformat_minor": 2
}
